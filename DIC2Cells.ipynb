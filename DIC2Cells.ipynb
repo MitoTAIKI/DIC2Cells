{
  "cells": [
    {
      "cell_type": "markdown",
      "metadata": {
        "id": "0LhgqS5-viUe"
      },
      "source": [
        "# **DIC2Cells**"
      ]
    },
    {
      "cell_type": "markdown",
      "source": [],
      "metadata": {
        "id": "UJz005q9peQv"
      }
    },
    {
      "cell_type": "code",
      "execution_count": null,
      "metadata": {
        "id": "sFwyFXCw3f5Z",
        "cellView": "form"
      },
      "outputs": [],
      "source": [
        "#@markdown ###Step 0: Git clone DIC2Cell (Warning!! Run this cell once per session)\n",
        "!git clone https://github.com/NVIDIA/pix2pixHD\n",
        "!pip install dominate\n",
        "%cd pix2pixHD\n",
        "%mkdir trained"
      ]
    },
    {
      "cell_type": "code",
      "execution_count": null,
      "metadata": {
        "colab": {
          "base_uri": "https://localhost:8080/"
        },
        "id": "WKBQZsu64oGO",
        "outputId": "686fad08-52e8-4072-e21c-7a70adb202d4",
        "cellView": "form"
      },
      "outputs": [
        {
          "output_type": "stream",
          "name": "stdout",
          "text": [
            "Mounted at /content/drive\n"
          ]
        }
      ],
      "source": [
        "#@markdown ###Step 1: Mount at Google Drive, which saves your DIC images\n",
        "from google.colab import drive\n",
        "drive.mount('/content/drive')\n",
        "%cd drive"
      ]
    },
    {
      "cell_type": "code",
      "execution_count": null,
      "metadata": {
        "id": "mWQy1y5hOWYH",
        "cellView": "form"
      },
      "outputs": [],
      "source": [
        "#@markdown ###Step 2: Run DIC2Cells\n",
        "!pip install dominate\n",
        "\n",
        "dataroot_dir = \"/content/drive/MyDrive/DIC2Cell\" #@param {type:\"string\"}\n",
        "number_of_images = 100 #@param {type:\"number\"}\n",
        "model_name = \"DIC2Cells\" #@param {type:\"string\"}\n",
        "checkpoints_dir = \"/content/drive/MyDrive/DIC2Cell\" #@param {type:\"string\"}\n",
        "results_dir = \"/content/drive/MyDrive/DIC2Cell\" #@param {type:\"string\"}\n",
        "\n",
        "!python test.py --dataroot dataroot_dir  --how_many number_of_images --name model_name --resize_or_crop none --label_nc 0 --no_instance --checkpoints_dir checkpoints_dir --results_dir results_dir"
      ]
    }
  ],
  "metadata": {
    "accelerator": "GPU",
    "colab": {
      "machine_shape": "hm",
      "provenance": []
    },
    "kernelspec": {
      "display_name": "Python 3",
      "name": "python3"
    }
  },
  "nbformat": 4,
  "nbformat_minor": 0
}